{
 "cells": [
  {
   "cell_type": "code",
   "execution_count": 1,
   "metadata": {},
   "outputs": [],
   "source": [
    "%load_ext lab_black"
   ]
  },
  {
   "cell_type": "code",
   "execution_count": 2,
   "metadata": {},
   "outputs": [],
   "source": [
    "import torch\n",
    "from torch import nn"
   ]
  },
  {
   "cell_type": "code",
   "execution_count": 4,
   "metadata": {},
   "outputs": [
    {
     "name": "stdout",
     "output_type": "stream",
     "text": [
      "0+5+3\n",
      "1+5+3\n",
      "2+5+3\n",
      "3+5+3\n",
      "4+5+3\n",
      "5+5+3\n",
      "[8, 9, 10, 11, 12, 13]\n"
     ]
    }
   ],
   "source": [
    "from functools import partial\n",
    "\n",
    "\n",
    "def add_func(a, b, c):\n",
    "    print(f\"{a}+{b}+{c}\")\n",
    "    return a + b + c\n",
    "\n",
    "\n",
    "add_list = list(map(partial(add_func, b=5, c=3), [0, 1, 2, 3, 4, 5]))\n",
    "\n",
    "print(add_list)"
   ]
  },
  {
   "cell_type": "code",
   "execution_count": 22,
   "metadata": {},
   "outputs": [],
   "source": [
    "x = torch.rand((1, 3, 64, 64))\n",
    "upsample = lambda x: torch.nn.functional.interpolate(x, scale_factor=2)\n",
    "up_x = upsample(x)"
   ]
  },
  {
   "cell_type": "code",
   "execution_count": 29,
   "metadata": {},
   "outputs": [],
   "source": [
    "class ResBlock(nn.Module):\n",
    "    def __init__(self, in_ch, out_ch):\n",
    "        super(ResBlock, self).__init__()\n",
    "\n",
    "        self.c0 = nn.Conv2d(in_ch, out_ch, 3, 1, 1)\n",
    "        self.c1 = nn.Conv2d(out_ch, out_ch, 3, 1, 1)\n",
    "        self.c_sc = nn.Conv2d(in_ch, out_ch, 1, 1, 0)\n",
    "\n",
    "        self.bn0 = nn.BatchNorm2d(in_ch)\n",
    "        self.bn1 = nn.BatchNorm2d(out_ch)\n",
    "\n",
    "        self.activation = nn.ReLU(inplace=False)\n",
    "\n",
    "        self.upsample = lambda x: torch.nn.functional.interpolate(x, scale_factor=2)\n",
    "        self.learnable_sc = in_ch != out_ch\n",
    "\n",
    "    def residual(self, x):\n",
    "        h = self.bn0(x)\n",
    "        h = self.activation(h)\n",
    "        h = self.c0(h)\n",
    "        h = self.upsample(h)\n",
    "        h = self.bn1(h)\n",
    "        h = self.activation(h)\n",
    "        h = self.c1(h)\n",
    "        return h\n",
    "\n",
    "    def shortcut(self, x):\n",
    "        if self.learnable_sc:\n",
    "            x = self.upsample(x)\n",
    "            x = self.c_sc(x)\n",
    "            return x\n",
    "        else:\n",
    "            return x\n",
    "\n",
    "    def foward(self, x):\n",
    "        return self.residual(x) + self.shortcut(x)"
   ]
  },
  {
   "cell_type": "code",
   "execution_count": null,
   "metadata": {},
   "outputs": [],
   "source": [
    "class Generator(nn.Module):\n",
    "    def __init__(self,ngpu):\n",
    "        super(Generator,self).__init__()\n",
    "        self.ngpu = ngpu\n",
    "        \n",
    "        self.l0 = nn.Linear(128,4*4*16)\n",
    "        self.res1 = ResBlock(16,16)\n",
    "        self.res1 = ResBlock(16,8)\n",
    "        self.res1 = ResBlock(8,8)\n",
    "        self.res1 = ResBlock(8,4)\n",
    "        self.res1 = ResBlock(4,2)\n",
    "    def forward(self,input):\n",
    "        return "
   ]
  },
  {
   "cell_type": "code",
   "execution_count": null,
   "metadata": {},
   "outputs": [],
   "source": [
    "class Discriminator(nn.Module):\n",
    "    def __init__(self,ngpu):\n",
    "        super(Discriminator,self).__init__()\n",
    "        self.ngpu = ngpu\n",
    "        \n",
    "    def forward(self,input):\n",
    "        "
   ]
  },
  {
   "cell_type": "code",
   "execution_count": 3,
   "metadata": {},
   "outputs": [],
   "source": [
    "def weight_init(m):\n",
    "    classname = m.__class__.__name__\n",
    "    if classname.find(\"Conv\") != -1:\n",
    "        nn.init.normal_(m.weight.data, 0.0, 0.02)\n",
    "    elif classname.find(\"BatchNorm\") != -1:\n",
    "        nn.init.normal_(m.weight.data, 1.0, 0.02)\n",
    "        nn.init.constant_(m.bias.data, 0)"
   ]
  }
 ],
 "metadata": {
  "kernelspec": {
   "display_name": "Python 3",
   "language": "python",
   "name": "python3"
  },
  "language_info": {
   "codemirror_mode": {
    "name": "ipython",
    "version": 3
   },
   "file_extension": ".py",
   "mimetype": "text/x-python",
   "name": "python",
   "nbconvert_exporter": "python",
   "pygments_lexer": "ipython3",
   "version": "3.7.5"
  }
 },
 "nbformat": 4,
 "nbformat_minor": 4
}
